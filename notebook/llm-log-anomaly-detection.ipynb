{
 "cells": [
  {
   "cell_type": "markdown",
   "id": "9b12b947-c26a-4243-94b5-9224145aecc8",
   "metadata": {},
   "source": [
    "# System Logs Anomaly Detection using Fine-Tuned LLMs\n",
    "\n",
    "A fine-tuned LLMs to classify logs as 'normal' or 'anomalous'."
   ]
  },
  {
   "cell_type": "markdown",
   "id": "4ffd7685-e87b-4b92-b3b2-10be22dae3cf",
   "metadata": {},
   "source": [
    "---"
   ]
  },
  {
   "cell_type": "markdown",
   "id": "95d7c806-b492-41c4-8fa0-3f4ef9311e6f",
   "metadata": {},
   "source": [
    "## Install Dependencies"
   ]
  },
  {
   "cell_type": "code",
   "execution_count": 63,
   "id": "8f1b1cb5-224e-416a-bf70-d7675edcaaeb",
   "metadata": {
    "scrolled": true
   },
   "outputs": [
    {
     "name": "stdout",
     "output_type": "stream",
     "text": [
      "Looking in indexes: https://download.pytorch.org/whl/cu118\n",
      "Requirement already satisfied: torch in c:\\users\\playw\\appdata\\local\\programs\\python\\python313\\lib\\site-packages (2.6.0+cu118)\n",
      "Requirement already satisfied: torchvision in c:\\users\\playw\\appdata\\local\\programs\\python\\python313\\lib\\site-packages (0.21.0)\n",
      "Requirement already satisfied: torchaudio in c:\\users\\playw\\appdata\\local\\programs\\python\\python313\\lib\\site-packages (2.6.0+cu118)\n",
      "Requirement already satisfied: filelock in c:\\users\\playw\\appdata\\local\\programs\\python\\python313\\lib\\site-packages (from torch) (3.17.0)\n",
      "Requirement already satisfied: typing-extensions>=4.10.0 in c:\\users\\playw\\appdata\\local\\programs\\python\\python313\\lib\\site-packages (from torch) (4.12.2)\n",
      "Requirement already satisfied: networkx in c:\\users\\playw\\appdata\\local\\programs\\python\\python313\\lib\\site-packages (from torch) (3.4.2)\n",
      "Requirement already satisfied: jinja2 in c:\\users\\playw\\appdata\\local\\programs\\python\\python313\\lib\\site-packages (from torch) (3.1.6)\n",
      "Requirement already satisfied: fsspec in c:\\users\\playw\\appdata\\local\\programs\\python\\python313\\lib\\site-packages (from torch) (2024.12.0)\n",
      "Requirement already satisfied: setuptools in c:\\users\\playw\\appdata\\local\\programs\\python\\python313\\lib\\site-packages (from torch) (76.0.0)\n",
      "Requirement already satisfied: sympy==1.13.1 in c:\\users\\playw\\appdata\\local\\programs\\python\\python313\\lib\\site-packages (from torch) (1.13.1)\n",
      "Requirement already satisfied: mpmath<1.4,>=1.1.0 in c:\\users\\playw\\appdata\\local\\programs\\python\\python313\\lib\\site-packages (from sympy==1.13.1->torch) (1.3.0)\n",
      "Requirement already satisfied: numpy in c:\\users\\playw\\appdata\\local\\programs\\python\\python313\\lib\\site-packages (from torchvision) (2.2.3)\n",
      "Requirement already satisfied: pillow!=8.3.*,>=5.3.0 in c:\\users\\playw\\appdata\\local\\programs\\python\\python313\\lib\\site-packages (from torchvision) (11.1.0)\n",
      "Requirement already satisfied: MarkupSafe>=2.0 in c:\\users\\playw\\appdata\\local\\programs\\python\\python313\\lib\\site-packages (from jinja2->torch) (3.0.2)\n"
     ]
    },
    {
     "name": "stderr",
     "output_type": "stream",
     "text": [
      "\n",
      "[notice] A new release of pip is available: 24.3.1 -> 25.0.1\n",
      "[notice] To update, run: python.exe -m pip install --upgrade pip\n"
     ]
    },
    {
     "name": "stdout",
     "output_type": "stream",
     "text": [
      "Requirement already satisfied: transformers in c:\\users\\playw\\appdata\\local\\programs\\python\\python313\\lib\\site-packages (4.49.0)\n",
      "Requirement already satisfied: datasets in c:\\users\\playw\\appdata\\local\\programs\\python\\python313\\lib\\site-packages (3.5.0)\n",
      "Requirement already satisfied: evaluate in c:\\users\\playw\\appdata\\local\\programs\\python\\python313\\lib\\site-packages (0.4.3)\n",
      "Requirement already satisfied: scikit-learn in c:\\users\\playw\\appdata\\local\\programs\\python\\python313\\lib\\site-packages (1.6.1)\n",
      "Requirement already satisfied: pandas in c:\\users\\playw\\appdata\\local\\programs\\python\\python313\\lib\\site-packages (2.2.3)\n",
      "Requirement already satisfied: tqdm in c:\\users\\playw\\appdata\\local\\programs\\python\\python313\\lib\\site-packages (4.67.1)\n",
      "Requirement already satisfied: peft in c:\\users\\playw\\appdata\\local\\programs\\python\\python313\\lib\\site-packages (0.15.1)\n",
      "Requirement already satisfied: filelock in c:\\users\\playw\\appdata\\local\\programs\\python\\python313\\lib\\site-packages (from transformers) (3.17.0)\n",
      "Requirement already satisfied: huggingface-hub<1.0,>=0.26.0 in c:\\users\\playw\\appdata\\local\\programs\\python\\python313\\lib\\site-packages (from transformers) (0.29.3)\n",
      "Requirement already satisfied: numpy>=1.17 in c:\\users\\playw\\appdata\\local\\programs\\python\\python313\\lib\\site-packages (from transformers) (2.2.3)\n",
      "Requirement already satisfied: packaging>=20.0 in c:\\users\\playw\\appdata\\local\\programs\\python\\python313\\lib\\site-packages (from transformers) (24.2)\n",
      "Requirement already satisfied: pyyaml>=5.1 in c:\\users\\playw\\appdata\\local\\programs\\python\\python313\\lib\\site-packages (from transformers) (6.0.2)\n",
      "Requirement already satisfied: regex!=2019.12.17 in c:\\users\\playw\\appdata\\local\\programs\\python\\python313\\lib\\site-packages (from transformers) (2024.11.6)\n",
      "Requirement already satisfied: requests in c:\\users\\playw\\appdata\\local\\programs\\python\\python313\\lib\\site-packages (from transformers) (2.32.3)\n",
      "Requirement already satisfied: tokenizers<0.22,>=0.21 in c:\\users\\playw\\appdata\\local\\programs\\python\\python313\\lib\\site-packages (from transformers) (0.21.0)\n",
      "Requirement already satisfied: safetensors>=0.4.1 in c:\\users\\playw\\appdata\\local\\programs\\python\\python313\\lib\\site-packages (from transformers) (0.5.3)\n",
      "Requirement already satisfied: pyarrow>=15.0.0 in c:\\users\\playw\\appdata\\local\\programs\\python\\python313\\lib\\site-packages (from datasets) (19.0.1)\n",
      "Requirement already satisfied: dill<0.3.9,>=0.3.0 in c:\\users\\playw\\appdata\\local\\programs\\python\\python313\\lib\\site-packages (from datasets) (0.3.8)\n",
      "Requirement already satisfied: xxhash in c:\\users\\playw\\appdata\\local\\programs\\python\\python313\\lib\\site-packages (from datasets) (3.5.0)\n",
      "Requirement already satisfied: multiprocess<0.70.17 in c:\\users\\playw\\appdata\\local\\programs\\python\\python313\\lib\\site-packages (from datasets) (0.70.16)\n",
      "Requirement already satisfied: fsspec<=2024.12.0,>=2023.1.0 in c:\\users\\playw\\appdata\\local\\programs\\python\\python313\\lib\\site-packages (from fsspec[http]<=2024.12.0,>=2023.1.0->datasets) (2024.12.0)\n",
      "Requirement already satisfied: aiohttp in c:\\users\\playw\\appdata\\local\\programs\\python\\python313\\lib\\site-packages (from datasets) (3.11.16)\n",
      "Requirement already satisfied: scipy>=1.6.0 in c:\\users\\playw\\appdata\\local\\programs\\python\\python313\\lib\\site-packages (from scikit-learn) (1.15.2)\n",
      "Requirement already satisfied: joblib>=1.2.0 in c:\\users\\playw\\appdata\\local\\programs\\python\\python313\\lib\\site-packages (from scikit-learn) (1.4.2)\n",
      "Requirement already satisfied: threadpoolctl>=3.1.0 in c:\\users\\playw\\appdata\\local\\programs\\python\\python313\\lib\\site-packages (from scikit-learn) (3.6.0)\n",
      "Requirement already satisfied: python-dateutil>=2.8.2 in c:\\users\\playw\\appdata\\local\\programs\\python\\python313\\lib\\site-packages (from pandas) (2.9.0.post0)\n",
      "Requirement already satisfied: pytz>=2020.1 in c:\\users\\playw\\appdata\\local\\programs\\python\\python313\\lib\\site-packages (from pandas) (2025.2)\n",
      "Requirement already satisfied: tzdata>=2022.7 in c:\\users\\playw\\appdata\\local\\programs\\python\\python313\\lib\\site-packages (from pandas) (2025.2)\n",
      "Requirement already satisfied: colorama in c:\\users\\playw\\appdata\\local\\programs\\python\\python313\\lib\\site-packages (from tqdm) (0.4.6)\n",
      "Requirement already satisfied: psutil in c:\\users\\playw\\appdata\\local\\programs\\python\\python313\\lib\\site-packages (from peft) (7.0.0)\n",
      "Requirement already satisfied: torch>=1.13.0 in c:\\users\\playw\\appdata\\local\\programs\\python\\python313\\lib\\site-packages (from peft) (2.6.0+cu118)\n",
      "Requirement already satisfied: accelerate>=0.21.0 in c:\\users\\playw\\appdata\\local\\programs\\python\\python313\\lib\\site-packages (from peft) (1.5.0)\n",
      "Requirement already satisfied: aiohappyeyeballs>=2.3.0 in c:\\users\\playw\\appdata\\local\\programs\\python\\python313\\lib\\site-packages (from aiohttp->datasets) (2.6.1)\n",
      "Requirement already satisfied: aiosignal>=1.1.2 in c:\\users\\playw\\appdata\\local\\programs\\python\\python313\\lib\\site-packages (from aiohttp->datasets) (1.3.2)\n",
      "Requirement already satisfied: attrs>=17.3.0 in c:\\users\\playw\\appdata\\local\\programs\\python\\python313\\lib\\site-packages (from aiohttp->datasets) (25.2.0)\n",
      "Requirement already satisfied: frozenlist>=1.1.1 in c:\\users\\playw\\appdata\\local\\programs\\python\\python313\\lib\\site-packages (from aiohttp->datasets) (1.5.0)\n",
      "Requirement already satisfied: multidict<7.0,>=4.5 in c:\\users\\playw\\appdata\\local\\programs\\python\\python313\\lib\\site-packages (from aiohttp->datasets) (6.4.3)\n",
      "Requirement already satisfied: propcache>=0.2.0 in c:\\users\\playw\\appdata\\local\\programs\\python\\python313\\lib\\site-packages (from aiohttp->datasets) (0.3.1)\n",
      "Requirement already satisfied: yarl<2.0,>=1.17.0 in c:\\users\\playw\\appdata\\local\\programs\\python\\python313\\lib\\site-packages (from aiohttp->datasets) (1.19.0)\n",
      "Requirement already satisfied: typing-extensions>=3.7.4.3 in c:\\users\\playw\\appdata\\local\\programs\\python\\python313\\lib\\site-packages (from huggingface-hub<1.0,>=0.26.0->transformers) (4.12.2)\n",
      "Requirement already satisfied: six>=1.5 in c:\\users\\playw\\appdata\\local\\programs\\python\\python313\\lib\\site-packages (from python-dateutil>=2.8.2->pandas) (1.17.0)\n",
      "Requirement already satisfied: charset-normalizer<4,>=2 in c:\\users\\playw\\appdata\\local\\programs\\python\\python313\\lib\\site-packages (from requests->transformers) (3.4.1)\n",
      "Requirement already satisfied: idna<4,>=2.5 in c:\\users\\playw\\appdata\\local\\programs\\python\\python313\\lib\\site-packages (from requests->transformers) (3.10)\n",
      "Requirement already satisfied: urllib3<3,>=1.21.1 in c:\\users\\playw\\appdata\\local\\programs\\python\\python313\\lib\\site-packages (from requests->transformers) (2.3.0)\n",
      "Requirement already satisfied: certifi>=2017.4.17 in c:\\users\\playw\\appdata\\local\\programs\\python\\python313\\lib\\site-packages (from requests->transformers) (2025.1.31)\n",
      "Requirement already satisfied: networkx in c:\\users\\playw\\appdata\\local\\programs\\python\\python313\\lib\\site-packages (from torch>=1.13.0->peft) (3.4.2)\n",
      "Requirement already satisfied: jinja2 in c:\\users\\playw\\appdata\\local\\programs\\python\\python313\\lib\\site-packages (from torch>=1.13.0->peft) (3.1.6)\n",
      "Requirement already satisfied: setuptools in c:\\users\\playw\\appdata\\local\\programs\\python\\python313\\lib\\site-packages (from torch>=1.13.0->peft) (76.0.0)\n",
      "Requirement already satisfied: sympy==1.13.1 in c:\\users\\playw\\appdata\\local\\programs\\python\\python313\\lib\\site-packages (from torch>=1.13.0->peft) (1.13.1)\n",
      "Requirement already satisfied: mpmath<1.4,>=1.1.0 in c:\\users\\playw\\appdata\\local\\programs\\python\\python313\\lib\\site-packages (from sympy==1.13.1->torch>=1.13.0->peft) (1.3.0)\n",
      "Requirement already satisfied: MarkupSafe>=2.0 in c:\\users\\playw\\appdata\\local\\programs\\python\\python313\\lib\\site-packages (from jinja2->torch>=1.13.0->peft) (3.0.2)\n"
     ]
    },
    {
     "name": "stderr",
     "output_type": "stream",
     "text": [
      "\n",
      "[notice] A new release of pip is available: 24.3.1 -> 25.0.1\n",
      "[notice] To update, run: python.exe -m pip install --upgrade pip\n"
     ]
    }
   ],
   "source": [
    "!pip install torch torchvision torchaudio --index-url https://download.pytorch.org/whl/cu118\n",
    "!pip install transformers datasets evaluate scikit-learn pandas tqdm peft"
   ]
  },
  {
   "cell_type": "markdown",
   "id": "6c936a94-4787-44a4-8627-f0f94da70c10",
   "metadata": {},
   "source": [
    "---"
   ]
  },
  {
   "cell_type": "markdown",
   "id": "91aaa3b4-78dc-4e52-8bcb-433cf5e670a6",
   "metadata": {},
   "source": [
    "## Data Loading & Preprocessing"
   ]
  },
  {
   "cell_type": "markdown",
   "id": "8bee934a-7563-446a-a70a-46e20cc973ab",
   "metadata": {},
   "source": [
    "#### 1. Load log data"
   ]
  },
  {
   "cell_type": "code",
   "execution_count": 64,
   "id": "a6ac559c-ca7e-476e-978d-0dc3b61c072a",
   "metadata": {
    "scrolled": true
   },
   "outputs": [
    {
     "name": "stdout",
     "output_type": "stream",
     "text": [
      "Log entries: 104815\n"
     ]
    }
   ],
   "source": [
    "import pandas as pd\n",
    "\n",
    "# Ignore warning\n",
    "pd.set_option('future.no_silent_downcasting', True)\n",
    "\n",
    "logs_df = pd.read_csv(\"../data/logs.csv\")\n",
    "labels_df = pd.read_csv(\"../data/labels.csv\")\n",
    "\n",
    "print(f\"Log entries: {len(logs_df)}\")"
   ]
  },
  {
   "cell_type": "code",
   "execution_count": 65,
   "id": "2f4f75a4-cecb-46fb-8dcd-2a1625f87100",
   "metadata": {
    "scrolled": true
   },
   "outputs": [
    {
     "data": {
      "text/html": [
       "<div>\n",
       "<style scoped>\n",
       "    .dataframe tbody tr th:only-of-type {\n",
       "        vertical-align: middle;\n",
       "    }\n",
       "\n",
       "    .dataframe tbody tr th {\n",
       "        vertical-align: top;\n",
       "    }\n",
       "\n",
       "    .dataframe thead th {\n",
       "        text-align: right;\n",
       "    }\n",
       "</style>\n",
       "<table border=\"1\" class=\"dataframe\">\n",
       "  <thead>\n",
       "    <tr style=\"text-align: right;\">\n",
       "      <th></th>\n",
       "      <th>LineId</th>\n",
       "      <th>Date</th>\n",
       "      <th>Time</th>\n",
       "      <th>Pid</th>\n",
       "      <th>Level</th>\n",
       "      <th>Component</th>\n",
       "      <th>Content</th>\n",
       "      <th>EventId</th>\n",
       "      <th>EventTemplate</th>\n",
       "    </tr>\n",
       "  </thead>\n",
       "  <tbody>\n",
       "    <tr>\n",
       "      <th>0</th>\n",
       "      <td>1</td>\n",
       "      <td>81109</td>\n",
       "      <td>203518</td>\n",
       "      <td>143</td>\n",
       "      <td>INFO</td>\n",
       "      <td>dfs.DataNode$DataXceiver</td>\n",
       "      <td>Receiving block blk_-1608999687919862906 src: ...</td>\n",
       "      <td>E5</td>\n",
       "      <td>Receiving block &lt;*&gt; src: /&lt;*&gt; dest: /&lt;*&gt;</td>\n",
       "    </tr>\n",
       "  </tbody>\n",
       "</table>\n",
       "</div>"
      ],
      "text/plain": [
       "   LineId   Date    Time  Pid Level                 Component  \\\n",
       "0       1  81109  203518  143  INFO  dfs.DataNode$DataXceiver   \n",
       "\n",
       "                                             Content EventId  \\\n",
       "0  Receiving block blk_-1608999687919862906 src: ...      E5   \n",
       "\n",
       "                              EventTemplate  \n",
       "0  Receiving block <*> src: /<*> dest: /<*>  "
      ]
     },
     "execution_count": 65,
     "metadata": {},
     "output_type": "execute_result"
    }
   ],
   "source": [
    "logs_df.head(1)"
   ]
  },
  {
   "cell_type": "code",
   "execution_count": 66,
   "id": "16d6ff5b-51b2-4ee4-8527-a61efe9d51f0",
   "metadata": {
    "scrolled": true
   },
   "outputs": [
    {
     "data": {
      "text/html": [
       "<div>\n",
       "<style scoped>\n",
       "    .dataframe tbody tr th:only-of-type {\n",
       "        vertical-align: middle;\n",
       "    }\n",
       "\n",
       "    .dataframe tbody tr th {\n",
       "        vertical-align: top;\n",
       "    }\n",
       "\n",
       "    .dataframe thead th {\n",
       "        text-align: right;\n",
       "    }\n",
       "</style>\n",
       "<table border=\"1\" class=\"dataframe\">\n",
       "  <thead>\n",
       "    <tr style=\"text-align: right;\">\n",
       "      <th></th>\n",
       "      <th>BlockId</th>\n",
       "      <th>Label</th>\n",
       "    </tr>\n",
       "  </thead>\n",
       "  <tbody>\n",
       "    <tr>\n",
       "      <th>0</th>\n",
       "      <td>blk_-1608999687919862906</td>\n",
       "      <td>Normal</td>\n",
       "    </tr>\n",
       "  </tbody>\n",
       "</table>\n",
       "</div>"
      ],
      "text/plain": [
       "                    BlockId   Label\n",
       "0  blk_-1608999687919862906  Normal"
      ]
     },
     "execution_count": 66,
     "metadata": {},
     "output_type": "execute_result"
    }
   ],
   "source": [
    "labels_df.head(1)"
   ]
  },
  {
   "cell_type": "markdown",
   "id": "24b1a92c-8026-4bfb-943e-756462ccb730",
   "metadata": {},
   "source": [
    "---"
   ]
  },
  {
   "cell_type": "markdown",
   "id": "f5693895-c832-469a-8694-d04bef3c24bc",
   "metadata": {},
   "source": [
    "#### 2. Extract block_id from the content and add it as a new field"
   ]
  },
  {
   "cell_type": "code",
   "execution_count": 67,
   "id": "5bd42597-6468-428e-a89e-bd6ae88deea4",
   "metadata": {
    "scrolled": true
   },
   "outputs": [
    {
     "data": {
      "text/html": [
       "<div>\n",
       "<style scoped>\n",
       "    .dataframe tbody tr th:only-of-type {\n",
       "        vertical-align: middle;\n",
       "    }\n",
       "\n",
       "    .dataframe tbody tr th {\n",
       "        vertical-align: top;\n",
       "    }\n",
       "\n",
       "    .dataframe thead th {\n",
       "        text-align: right;\n",
       "    }\n",
       "</style>\n",
       "<table border=\"1\" class=\"dataframe\">\n",
       "  <thead>\n",
       "    <tr style=\"text-align: right;\">\n",
       "      <th></th>\n",
       "      <th>LineId</th>\n",
       "      <th>Date</th>\n",
       "      <th>Time</th>\n",
       "      <th>Pid</th>\n",
       "      <th>Level</th>\n",
       "      <th>Component</th>\n",
       "      <th>Content</th>\n",
       "      <th>EventId</th>\n",
       "      <th>EventTemplate</th>\n",
       "      <th>BlockId</th>\n",
       "    </tr>\n",
       "  </thead>\n",
       "  <tbody>\n",
       "    <tr>\n",
       "      <th>0</th>\n",
       "      <td>1</td>\n",
       "      <td>81109</td>\n",
       "      <td>203518</td>\n",
       "      <td>143</td>\n",
       "      <td>INFO</td>\n",
       "      <td>dfs.DataNode$DataXceiver</td>\n",
       "      <td>Receiving block blk_-1608999687919862906 src: ...</td>\n",
       "      <td>E5</td>\n",
       "      <td>Receiving block &lt;*&gt; src: /&lt;*&gt; dest: /&lt;*&gt;</td>\n",
       "      <td>blk_-1608999687919862906</td>\n",
       "    </tr>\n",
       "  </tbody>\n",
       "</table>\n",
       "</div>"
      ],
      "text/plain": [
       "   LineId   Date    Time  Pid Level                 Component  \\\n",
       "0       1  81109  203518  143  INFO  dfs.DataNode$DataXceiver   \n",
       "\n",
       "                                             Content EventId  \\\n",
       "0  Receiving block blk_-1608999687919862906 src: ...      E5   \n",
       "\n",
       "                              EventTemplate                   BlockId  \n",
       "0  Receiving block <*> src: /<*> dest: /<*>  blk_-1608999687919862906  "
      ]
     },
     "execution_count": 67,
     "metadata": {},
     "output_type": "execute_result"
    }
   ],
   "source": [
    "logs_df[\"BlockId\"] = logs_df[\"Content\"].str.extract(r'(blk_-?\\d+)')\n",
    "logs_df.head(1)"
   ]
  },
  {
   "cell_type": "markdown",
   "id": "449a6a9d-6f67-4fbe-a0ad-68a85d5099f2",
   "metadata": {},
   "source": [
    "#### 3. Merge logs with its label ('Normal' or 'Anomaly')"
   ]
  },
  {
   "cell_type": "code",
   "execution_count": 68,
   "id": "b64c4ea8-cf25-4d97-9e7c-898d49eeb3f8",
   "metadata": {
    "scrolled": true
   },
   "outputs": [
    {
     "data": {
      "text/html": [
       "<div>\n",
       "<style scoped>\n",
       "    .dataframe tbody tr th:only-of-type {\n",
       "        vertical-align: middle;\n",
       "    }\n",
       "\n",
       "    .dataframe tbody tr th {\n",
       "        vertical-align: top;\n",
       "    }\n",
       "\n",
       "    .dataframe thead th {\n",
       "        text-align: right;\n",
       "    }\n",
       "</style>\n",
       "<table border=\"1\" class=\"dataframe\">\n",
       "  <thead>\n",
       "    <tr style=\"text-align: right;\">\n",
       "      <th></th>\n",
       "      <th>LineId</th>\n",
       "      <th>Date</th>\n",
       "      <th>Time</th>\n",
       "      <th>Pid</th>\n",
       "      <th>Level</th>\n",
       "      <th>Component</th>\n",
       "      <th>Content</th>\n",
       "      <th>EventId</th>\n",
       "      <th>EventTemplate</th>\n",
       "      <th>BlockId</th>\n",
       "      <th>Label</th>\n",
       "    </tr>\n",
       "  </thead>\n",
       "  <tbody>\n",
       "    <tr>\n",
       "      <th>0</th>\n",
       "      <td>1</td>\n",
       "      <td>81109</td>\n",
       "      <td>203518</td>\n",
       "      <td>143</td>\n",
       "      <td>INFO</td>\n",
       "      <td>dfs.DataNode$DataXceiver</td>\n",
       "      <td>Receiving block blk_-1608999687919862906 src: ...</td>\n",
       "      <td>E5</td>\n",
       "      <td>Receiving block &lt;*&gt; src: /&lt;*&gt; dest: /&lt;*&gt;</td>\n",
       "      <td>blk_-1608999687919862906</td>\n",
       "      <td>Normal</td>\n",
       "    </tr>\n",
       "  </tbody>\n",
       "</table>\n",
       "</div>"
      ],
      "text/plain": [
       "   LineId   Date    Time  Pid Level                 Component  \\\n",
       "0       1  81109  203518  143  INFO  dfs.DataNode$DataXceiver   \n",
       "\n",
       "                                             Content EventId  \\\n",
       "0  Receiving block blk_-1608999687919862906 src: ...      E5   \n",
       "\n",
       "                              EventTemplate                   BlockId   Label  \n",
       "0  Receiving block <*> src: /<*> dest: /<*>  blk_-1608999687919862906  Normal  "
      ]
     },
     "execution_count": 68,
     "metadata": {},
     "output_type": "execute_result"
    }
   ],
   "source": [
    "new_logs_df = pd.merge(logs_df, labels_df, on=\"BlockId\")\n",
    "new_logs_df.head(1)"
   ]
  },
  {
   "cell_type": "markdown",
   "id": "6ce54bc0-de25-4cd7-a098-7febeb77b1ca",
   "metadata": {},
   "source": [
    "#### 4. Map 'Normal' to '1' & 'Anomaly' to '0'"
   ]
  },
  {
   "cell_type": "code",
   "execution_count": 69,
   "id": "44c6b990-25ce-4ca9-bda9-b9fdda3e7038",
   "metadata": {
    "scrolled": true
   },
   "outputs": [
    {
     "data": {
      "text/html": [
       "<div>\n",
       "<style scoped>\n",
       "    .dataframe tbody tr th:only-of-type {\n",
       "        vertical-align: middle;\n",
       "    }\n",
       "\n",
       "    .dataframe tbody tr th {\n",
       "        vertical-align: top;\n",
       "    }\n",
       "\n",
       "    .dataframe thead th {\n",
       "        text-align: right;\n",
       "    }\n",
       "</style>\n",
       "<table border=\"1\" class=\"dataframe\">\n",
       "  <thead>\n",
       "    <tr style=\"text-align: right;\">\n",
       "      <th></th>\n",
       "      <th>LineId</th>\n",
       "      <th>Date</th>\n",
       "      <th>Time</th>\n",
       "      <th>Pid</th>\n",
       "      <th>Level</th>\n",
       "      <th>Component</th>\n",
       "      <th>Content</th>\n",
       "      <th>EventId</th>\n",
       "      <th>EventTemplate</th>\n",
       "      <th>BlockId</th>\n",
       "      <th>Label</th>\n",
       "    </tr>\n",
       "  </thead>\n",
       "  <tbody>\n",
       "    <tr>\n",
       "      <th>0</th>\n",
       "      <td>1</td>\n",
       "      <td>81109</td>\n",
       "      <td>203518</td>\n",
       "      <td>143</td>\n",
       "      <td>INFO</td>\n",
       "      <td>dfs.DataNode$DataXceiver</td>\n",
       "      <td>Receiving block blk_-1608999687919862906 src: ...</td>\n",
       "      <td>E5</td>\n",
       "      <td>Receiving block &lt;*&gt; src: /&lt;*&gt; dest: /&lt;*&gt;</td>\n",
       "      <td>blk_-1608999687919862906</td>\n",
       "      <td>1</td>\n",
       "    </tr>\n",
       "  </tbody>\n",
       "</table>\n",
       "</div>"
      ],
      "text/plain": [
       "   LineId   Date    Time  Pid Level                 Component  \\\n",
       "0       1  81109  203518  143  INFO  dfs.DataNode$DataXceiver   \n",
       "\n",
       "                                             Content EventId  \\\n",
       "0  Receiving block blk_-1608999687919862906 src: ...      E5   \n",
       "\n",
       "                              EventTemplate                   BlockId Label  \n",
       "0  Receiving block <*> src: /<*> dest: /<*>  blk_-1608999687919862906     1  "
      ]
     },
     "execution_count": 69,
     "metadata": {},
     "output_type": "execute_result"
    }
   ],
   "source": [
    "new_logs_df[\"Label\"] = new_logs_df[\"Label\"].replace({'Normal': 1, 'Anomaly': 0})\n",
    "new_logs_df.head(1)"
   ]
  },
  {
   "cell_type": "markdown",
   "id": "9890dfb0-d0f7-453d-9e2e-abcef21fb416",
   "metadata": {},
   "source": [
    "#### 5. Split dataset: Training & Test"
   ]
  },
  {
   "cell_type": "code",
   "execution_count": 70,
   "id": "d8db59c1-6e1b-41a3-8373-d6d9ab25e07c",
   "metadata": {
    "scrolled": true
   },
   "outputs": [
    {
     "name": "stdout",
     "output_type": "stream",
     "text": [
      "Training Split: 83852 | Test Split: 20963\n"
     ]
    }
   ],
   "source": [
    "from sklearn.model_selection import train_test_split\n",
    "\n",
    "train_df, test_df = train_test_split(\n",
    "    new_logs_df,\n",
    "    test_size=0.2,\n",
    "    random_state=42,\n",
    "    stratify=new_logs_df[\"Label\"]\n",
    ")\n",
    "\n",
    "print(f\"Training Split: {len(train_df)} | Test Split: {len(test_df)}\")"
   ]
  },
  {
   "cell_type": "markdown",
   "id": "3e6192ea-f24a-4396-ac47-8ad80cd4d3a9",
   "metadata": {},
   "source": [
    "---"
   ]
  },
  {
   "cell_type": "markdown",
   "id": "3af59680-b315-4b92-8c83-5658a2a876c6",
   "metadata": {},
   "source": [
    "## Initialize Models \n",
    "*Using Lightweight models for training convenience. Will change it in the later stage of project*"
   ]
  },
  {
   "cell_type": "code",
   "execution_count": 71,
   "id": "64f54bfc-d9ee-4ee6-8027-99e9f20f4044",
   "metadata": {},
   "outputs": [],
   "source": [
    "from transformers import DistilBertModel, GPT2LMHeadModel, GPT2Tokenizer"
   ]
  },
  {
   "cell_type": "markdown",
   "id": "f88aff88-a26f-4e89-b114-c9feaa41d1bb",
   "metadata": {},
   "source": [
    "#### 1. Initialize encoder"
   ]
  },
  {
   "cell_type": "code",
   "execution_count": 72,
   "id": "f314d85d-cdbf-47e4-abb8-8dc641cc2311",
   "metadata": {},
   "outputs": [],
   "source": [
    "# Lightweight encoder model\n",
    "# TODO: Change it later??\n",
    "encoder = DistilBertModel.from_pretrained(\"distilbert-base-uncased\")\n",
    "encoder_tokenizer = DistilBertTokenizer.from_pretrained(\"distilbert-base-uncased\")"
   ]
  },
  {
   "cell_type": "markdown",
   "id": "e7703ffa-59c6-4423-b30b-61874269f0e3",
   "metadata": {},
   "source": [
    "#### 2. Initialize decoder"
   ]
  },
  {
   "cell_type": "code",
   "execution_count": 73,
   "id": "a41cbfa1-e5d5-4fb6-b9f3-61363ef7e526",
   "metadata": {},
   "outputs": [],
   "source": [
    "# Lightweight decorder model\n",
    "# TODO: Change it later??\n",
    "decoder = GPT2LMHeadModel.from_pretrained(\"gpt2\").to(\"cuda\")\n",
    "decoder_tokenizer = GPT2Tokenizer.from_pretrained(\"gpt2\")\n",
    "decoder_tokenizer.pad_token = decoder_tokenizer.eos_token"
   ]
  },
  {
   "cell_type": "markdown",
   "id": "086b7f11-a220-4c13-9817-d74931a4c47b",
   "metadata": {},
   "source": [
    "---"
   ]
  },
  {
   "cell_type": "markdown",
   "id": "4742166f-81c5-4b67-8f38-ed2435e1133f",
   "metadata": {},
   "source": [
    "## Prepare Dataset"
   ]
  },
  {
   "cell_type": "markdown",
   "id": "6a07f38f-28cb-4a3c-b5f5-e6db11b3ab18",
   "metadata": {},
   "source": [
    "#### 1. Encoder dataset"
   ]
  },
  {
   "cell_type": "code",
   "execution_count": 74,
   "id": "2793acac-138b-4848-822b-4b6489eca6c3",
   "metadata": {},
   "outputs": [
    {
     "name": "stderr",
     "output_type": "stream",
     "text": [
      "Map: 100%|██████████████████████████████████████████████████████████████| 83852/83852 [1:42:18<00:00, 13.66 examples/s]\n",
      "Map: 100%|████████████████████████████████████████████████████████████████| 20963/20963 [25:35<00:00, 13.65 examples/s]\n"
     ]
    }
   ],
   "source": [
    "from datasets import Dataset\n",
    "\n",
    "train_dataset = Dataset.from_pandas(train_df[[\"EventTemplate\", \"Label\"]])\n",
    "test_dataset = Dataset.from_pandas(test_df[[\"EventTemplate\", \"Label\"]])\n",
    "\n",
    "def get_embeddings(batch):\n",
    "    inputs = encoder_tokenizer(\n",
    "        batch[\"EventTemplate\"], \n",
    "        padding=\"max_length\", \n",
    "        truncation=True, \n",
    "        max_length=128, \n",
    "        return_tensors=\"pt\"\n",
    "    )\n",
    "    with torch.no_grad():\n",
    "        outputs = encoder(**inputs)\n",
    "    return {\"embeddings\": outputs.last_hidden_state.mean(dim=1).cpu().numpy()}\n",
    "\n",
    "train_dataset = train_dataset.map(get_embeddings, batched=True, batch_size=32)\n",
    "test_dataset = test_dataset.map(get_embeddings, batched=True, batch_size=32)"
   ]
  },
  {
   "cell_type": "markdown",
   "id": "138ff6e2-c355-4935-a6c9-782560806ddd",
   "metadata": {},
   "source": [
    "#### 2. Decoder Dataset"
   ]
  },
  {
   "cell_type": "code",
   "execution_count": 75,
   "id": "06eb4324-2ad6-48b3-b20d-fabff1b2d0c6",
   "metadata": {},
   "outputs": [
    {
     "name": "stderr",
     "output_type": "stream",
     "text": [
      "Map: 100%|██████████████████████████████████████████████████████████████| 83852/83852 [00:25<00:00, 3305.55 examples/s]\n",
      "Map: 100%|██████████████████████████████████████████████████████████████| 20963/20963 [00:06<00:00, 3246.05 examples/s]\n"
     ]
    }
   ],
   "source": [
    "def prepare_decoder_data(data):\n",
    "    prompts = [\n",
    "        f\"\"\"Analyze this log:\n",
    "        Log: {log}\n",
    "        Is this anomalous? Answer YES or NO:\"\"\"\n",
    "        for log in data[\"EventTemplate\"]\n",
    "    ]\n",
    "    tokenized = decoder_tokenizer(\n",
    "        prompts,\n",
    "        padding=\"max_length\",\n",
    "        truncation=True,\n",
    "        max_length=256,\n",
    "        return_tensors=\"pt\"\n",
    "    )\n",
    "    return {\n",
    "        \"input_ids\": tokenized[\"input_ids\"],\n",
    "        \"attention_mask\": tokenized[\"attention_mask\"],\n",
    "        \"labels\": tokenized[\"input_ids\"].clone()\n",
    "    }\n",
    "\n",
    "train_dataset = train_dataset.map(prepare_decoder_data, batched=True, batch_size=8)\n",
    "test_dataset = test_dataset.map(prepare_decoder_data, batched=True, batch_size=8)\n",
    "\n",
    "train_dataset.set_format(type=\"torch\", columns=[\"input_ids\", \"attention_mask\", \"labels\"])\n",
    "test_dataset.set_format(type=\"torch\", columns=[\"input_ids\", \"attention_mask\", \"labels\"])"
   ]
  },
  {
   "cell_type": "markdown",
   "id": "c79c665b-f1e7-4657-bb19-56190081c4ab",
   "metadata": {},
   "source": [
    "---"
   ]
  },
  {
   "cell_type": "markdown",
   "id": "e0b77729-ba09-43cc-9a6c-f5807e69eb63",
   "metadata": {},
   "source": [
    "## Fine tune decoder"
   ]
  },
  {
   "cell_type": "code",
   "execution_count": 85,
   "id": "61786e41-e33f-4925-a726-b048793b8a41",
   "metadata": {},
   "outputs": [],
   "source": [
    "from transformers import TrainingArguments, Trainer\n",
    "from peft import LoraConfig, get_peft_model\n",
    "from safetensors.torch import save_file\n",
    "import os"
   ]
  },
  {
   "cell_type": "markdown",
   "id": "3cce73b2-4e2f-4c30-8459-38c1ea5819f8",
   "metadata": {},
   "source": [
    "#### 1. Workaround for GPU efficiency"
   ]
  },
  {
   "cell_type": "code",
   "execution_count": 86,
   "id": "d4193b67-2632-4124-b573-28e332285053",
   "metadata": {},
   "outputs": [],
   "source": [
    "peft_config = LoraConfig(\n",
    "    r=8,\n",
    "    lora_alpha=16,\n",
    "    target_modules=[\"c_attn\"],\n",
    "    lora_dropout=0.05,\n",
    "    task_type=\"CAUSAL_LM\"\n",
    ")\n",
    "\n",
    "decoder = get_peft_model(decoder, peft_config)"
   ]
  },
  {
   "cell_type": "markdown",
   "id": "a5b89124-dcd7-4f9b-bbc1-56980cba3710",
   "metadata": {},
   "source": [
    "#### 2. Train model"
   ]
  },
  {
   "cell_type": "code",
   "execution_count": 87,
   "id": "57e46de4-2013-43af-b974-4af8405da337",
   "metadata": {},
   "outputs": [
    {
     "data": {
      "text/html": [
       "\n",
       "    <div>\n",
       "      \n",
       "      <progress value='15720' max='15720' style='width:300px; height:20px; vertical-align: middle;'></progress>\n",
       "      [15720/15720 1:11:11, Epoch 2/3]\n",
       "    </div>\n",
       "    <table border=\"1\" class=\"dataframe\">\n",
       "  <thead>\n",
       " <tr style=\"text-align: left;\">\n",
       "      <th>Epoch</th>\n",
       "      <th>Training Loss</th>\n",
       "      <th>Validation Loss</th>\n",
       "    </tr>\n",
       "  </thead>\n",
       "  <tbody>\n",
       "    <tr>\n",
       "      <td>1</td>\n",
       "      <td>0.019700</td>\n",
       "      <td>0.007470</td>\n",
       "    </tr>\n",
       "    <tr>\n",
       "      <td>2</td>\n",
       "      <td>0.011400</td>\n",
       "      <td>0.007112</td>\n",
       "    </tr>\n",
       "  </tbody>\n",
       "</table><p>"
      ],
      "text/plain": [
       "<IPython.core.display.HTML object>"
      ]
     },
     "metadata": {},
     "output_type": "display_data"
    },
    {
     "data": {
      "text/plain": [
       "TrainOutput(global_step=15720, training_loss=0.06564609595401445, metrics={'train_runtime': 4271.7164, 'train_samples_per_second': 58.889, 'train_steps_per_second': 3.68, 'total_flos': 4.788400406239642e+16, 'train_loss': 0.06564609595401445, 'epoch': 2.99947526594476})"
      ]
     },
     "execution_count": 87,
     "metadata": {},
     "output_type": "execute_result"
    }
   ],
   "source": [
    "training_args = TrainingArguments(\n",
    "    output_dir=\"./model\",\n",
    "    per_device_train_batch_size=4,\n",
    "    gradient_accumulation_steps=4,\n",
    "    num_train_epochs=3,\n",
    "    learning_rate=5e-5,\n",
    "    evaluation_strategy=\"epoch\",\n",
    "    save_strategy=\"no\",\n",
    "    fp16=True,\n",
    "    logging_steps=50,\n",
    "    remove_unused_columns=False\n",
    ")\n",
    "\n",
    "trainer = Trainer(\n",
    "    model=decoder,\n",
    "    args=training_args,\n",
    "    train_dataset=train_dataset,\n",
    "    eval_dataset=test_dataset,\n",
    ")\n",
    "\n",
    "trainer.train()"
   ]
  },
  {
   "cell_type": "markdown",
   "id": "2cc23425-892c-4918-91f6-19bf1475febf",
   "metadata": {},
   "source": [
    "#### 4. Save model"
   ]
  },
  {
   "cell_type": "code",
   "execution_count": 90,
   "id": "858c9c50-93f8-49de-9ae1-d8448ee7147b",
   "metadata": {},
   "outputs": [],
   "source": [
    "decoder.save_pretrained(\"./log_anomaly\", safe_serialization=True)"
   ]
  },
  {
   "cell_type": "code",
   "execution_count": null,
   "id": "e0649681-58ce-426a-a6bc-c94edd7ec6be",
   "metadata": {},
   "outputs": [],
   "source": []
  }
 ],
 "metadata": {
  "kernelspec": {
   "display_name": "Python 3 (ipykernel)",
   "language": "python",
   "name": "python3"
  },
  "language_info": {
   "codemirror_mode": {
    "name": "ipython",
    "version": 3
   },
   "file_extension": ".py",
   "mimetype": "text/x-python",
   "name": "python",
   "nbconvert_exporter": "python",
   "pygments_lexer": "ipython3",
   "version": "3.13.2"
  }
 },
 "nbformat": 4,
 "nbformat_minor": 5
}
