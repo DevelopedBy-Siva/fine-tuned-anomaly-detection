{
 "cells": [
  {
   "cell_type": "markdown",
   "id": "9b12b947-c26a-4243-94b5-9224145aecc8",
   "metadata": {},
   "source": [
    "# System Logs Anomaly Detection using Fine-Tuned LLMs\n",
    "\n",
    "A fine-tuned LLMs to classify logs as 'normal' or 'anomalous'."
   ]
  },
  {
   "cell_type": "markdown",
   "id": "4ffd7685-e87b-4b92-b3b2-10be22dae3cf",
   "metadata": {},
   "source": [
    "---"
   ]
  },
  {
   "cell_type": "markdown",
   "id": "95d7c806-b492-41c4-8fa0-3f4ef9311e6f",
   "metadata": {},
   "source": [
    "## Setup and Imports"
   ]
  },
  {
   "cell_type": "code",
   "execution_count": 1,
   "id": "8f1b1cb5-224e-416a-bf70-d7675edcaaeb",
   "metadata": {
    "scrolled": true
   },
   "outputs": [
    {
     "name": "stdout",
     "output_type": "stream",
     "text": [
      "Defaulting to user installation because normal site-packages is not writeable\n",
      "Requirement already satisfied: torch in ./.local/lib/python3.12/site-packages (2.6.0+cu118)\n",
      "Requirement already satisfied: transformers in ./.local/lib/python3.12/site-packages (4.51.3)\n",
      "Requirement already satisfied: datasets in ./.local/lib/python3.12/site-packages (3.5.0)\n",
      "Requirement already satisfied: scikit-learn in ./.local/lib/python3.12/site-packages (1.6.1)\n",
      "Requirement already satisfied: peft in ./.local/lib/python3.12/site-packages (0.15.1)\n",
      "Requirement already satisfied: accelerate in ./.local/lib/python3.12/site-packages (1.6.0)\n",
      "Requirement already satisfied: pandas in ./.local/lib/python3.12/site-packages (2.2.3)\n",
      "Requirement already satisfied: numpy in /packages/apps/jupyter/2025-03-24/lib/python3.12/site-packages (2.2.4)\n",
      "Requirement already satisfied: tqdm in /packages/apps/jupyter/2025-03-24/lib/python3.12/site-packages (4.67.1)\n",
      "Requirement already satisfied: seaborn in ./.local/lib/python3.12/site-packages (0.13.2)\n",
      "Requirement already satisfied: matplotlib in /packages/apps/jupyter/2025-03-24/lib/python3.12/site-packages (3.10.1)\n",
      "Requirement already satisfied: nlpaug in ./.local/lib/python3.12/site-packages (1.1.11)\n",
      "Requirement already satisfied: sentencepiece in ./.local/lib/python3.12/site-packages (0.2.0)\n",
      "Requirement already satisfied: huggingface_hub[hf_xet] in ./.local/lib/python3.12/site-packages (0.30.2)\n",
      "Requirement already satisfied: filelock in ./.local/lib/python3.12/site-packages (from torch) (3.13.1)\n",
      "Requirement already satisfied: typing-extensions>=4.10.0 in /packages/apps/jupyter/2025-03-24/lib/python3.12/site-packages (from torch) (4.12.2)\n",
      "Requirement already satisfied: networkx in ./.local/lib/python3.12/site-packages (from torch) (3.3)\n",
      "Requirement already satisfied: jinja2 in /packages/apps/jupyter/2025-03-24/lib/python3.12/site-packages (from torch) (3.1.6)\n",
      "Requirement already satisfied: fsspec in ./.local/lib/python3.12/site-packages (from torch) (2024.6.1)\n",
      "Requirement already satisfied: nvidia-cuda-nvrtc-cu11==11.8.89 in ./.local/lib/python3.12/site-packages (from torch) (11.8.89)\n",
      "Requirement already satisfied: nvidia-cuda-runtime-cu11==11.8.89 in ./.local/lib/python3.12/site-packages (from torch) (11.8.89)\n",
      "Requirement already satisfied: nvidia-cuda-cupti-cu11==11.8.87 in ./.local/lib/python3.12/site-packages (from torch) (11.8.87)\n",
      "Requirement already satisfied: nvidia-cudnn-cu11==9.1.0.70 in ./.local/lib/python3.12/site-packages (from torch) (9.1.0.70)\n",
      "Requirement already satisfied: nvidia-cublas-cu11==11.11.3.6 in ./.local/lib/python3.12/site-packages (from torch) (11.11.3.6)\n",
      "Requirement already satisfied: nvidia-cufft-cu11==10.9.0.58 in ./.local/lib/python3.12/site-packages (from torch) (10.9.0.58)\n",
      "Requirement already satisfied: nvidia-curand-cu11==10.3.0.86 in ./.local/lib/python3.12/site-packages (from torch) (10.3.0.86)\n",
      "Requirement already satisfied: nvidia-cusolver-cu11==11.4.1.48 in ./.local/lib/python3.12/site-packages (from torch) (11.4.1.48)\n",
      "Requirement already satisfied: nvidia-cusparse-cu11==11.7.5.86 in ./.local/lib/python3.12/site-packages (from torch) (11.7.5.86)\n",
      "Requirement already satisfied: nvidia-nccl-cu11==2.21.5 in ./.local/lib/python3.12/site-packages (from torch) (2.21.5)\n",
      "Requirement already satisfied: nvidia-nvtx-cu11==11.8.86 in ./.local/lib/python3.12/site-packages (from torch) (11.8.86)\n",
      "Requirement already satisfied: triton==3.2.0 in ./.local/lib/python3.12/site-packages (from torch) (3.2.0)\n",
      "Requirement already satisfied: setuptools in /packages/apps/jupyter/2025-03-24/lib/python3.12/site-packages (from torch) (75.8.2)\n",
      "Requirement already satisfied: sympy==1.13.1 in ./.local/lib/python3.12/site-packages (from torch) (1.13.1)\n",
      "Requirement already satisfied: mpmath<1.4,>=1.1.0 in ./.local/lib/python3.12/site-packages (from sympy==1.13.1->torch) (1.3.0)\n",
      "Requirement already satisfied: packaging>=20.0 in /packages/apps/jupyter/2025-03-24/lib/python3.12/site-packages (from transformers) (24.2)\n",
      "Requirement already satisfied: pyyaml>=5.1 in /packages/apps/jupyter/2025-03-24/lib/python3.12/site-packages (from transformers) (6.0.2)\n",
      "Requirement already satisfied: regex!=2019.12.17 in ./.local/lib/python3.12/site-packages (from transformers) (2024.11.6)\n",
      "Requirement already satisfied: requests in /packages/apps/jupyter/2025-03-24/lib/python3.12/site-packages (from transformers) (2.32.3)\n",
      "Requirement already satisfied: tokenizers<0.22,>=0.21 in ./.local/lib/python3.12/site-packages (from transformers) (0.21.1)\n",
      "Requirement already satisfied: safetensors>=0.4.3 in ./.local/lib/python3.12/site-packages (from transformers) (0.5.3)\n",
      "Requirement already satisfied: hf-xet>=0.1.4 in ./.local/lib/python3.12/site-packages (from huggingface_hub[hf_xet]) (1.0.3)\n",
      "Requirement already satisfied: pyarrow>=15.0.0 in ./.local/lib/python3.12/site-packages (from datasets) (19.0.1)\n",
      "Requirement already satisfied: dill<0.3.9,>=0.3.0 in ./.local/lib/python3.12/site-packages (from datasets) (0.3.8)\n",
      "Requirement already satisfied: xxhash in ./.local/lib/python3.12/site-packages (from datasets) (3.5.0)\n",
      "Requirement already satisfied: multiprocess<0.70.17 in ./.local/lib/python3.12/site-packages (from datasets) (0.70.16)\n",
      "Requirement already satisfied: aiohttp in ./.local/lib/python3.12/site-packages (from datasets) (3.11.16)\n",
      "Requirement already satisfied: scipy>=1.6.0 in ./.local/lib/python3.12/site-packages (from scikit-learn) (1.15.2)\n",
      "Requirement already satisfied: joblib>=1.2.0 in ./.local/lib/python3.12/site-packages (from scikit-learn) (1.4.2)\n",
      "Requirement already satisfied: threadpoolctl>=3.1.0 in ./.local/lib/python3.12/site-packages (from scikit-learn) (3.6.0)\n",
      "Requirement already satisfied: psutil in /packages/apps/jupyter/2025-03-24/lib/python3.12/site-packages (from peft) (7.0.0)\n",
      "Requirement already satisfied: python-dateutil>=2.8.2 in /packages/apps/jupyter/2025-03-24/lib/python3.12/site-packages (from pandas) (2.9.0.post0)\n",
      "Requirement already satisfied: pytz>=2020.1 in /packages/apps/jupyter/2025-03-24/lib/python3.12/site-packages (from pandas) (2025.1)\n",
      "Requirement already satisfied: tzdata>=2022.7 in ./.local/lib/python3.12/site-packages (from pandas) (2025.2)\n",
      "Requirement already satisfied: contourpy>=1.0.1 in /packages/apps/jupyter/2025-03-24/lib/python3.12/site-packages (from matplotlib) (1.3.1)\n",
      "Requirement already satisfied: cycler>=0.10 in /packages/apps/jupyter/2025-03-24/lib/python3.12/site-packages (from matplotlib) (0.12.1)\n",
      "Requirement already satisfied: fonttools>=4.22.0 in /packages/apps/jupyter/2025-03-24/lib/python3.12/site-packages (from matplotlib) (4.56.0)\n",
      "Requirement already satisfied: kiwisolver>=1.3.1 in /packages/apps/jupyter/2025-03-24/lib/python3.12/site-packages (from matplotlib) (1.4.8)\n",
      "Requirement already satisfied: pillow>=8 in /packages/apps/jupyter/2025-03-24/lib/python3.12/site-packages (from matplotlib) (11.1.0)\n",
      "Requirement already satisfied: pyparsing>=2.3.1 in /packages/apps/jupyter/2025-03-24/lib/python3.12/site-packages (from matplotlib) (3.2.2)\n",
      "Requirement already satisfied: gdown>=4.0.0 in ./.local/lib/python3.12/site-packages (from nlpaug) (5.2.0)\n",
      "Requirement already satisfied: aiohappyeyeballs>=2.3.0 in ./.local/lib/python3.12/site-packages (from aiohttp->datasets) (2.6.1)\n",
      "Requirement already satisfied: aiosignal>=1.1.2 in ./.local/lib/python3.12/site-packages (from aiohttp->datasets) (1.3.2)\n",
      "Requirement already satisfied: attrs>=17.3.0 in /packages/apps/jupyter/2025-03-24/lib/python3.12/site-packages (from aiohttp->datasets) (25.3.0)\n",
      "Requirement already satisfied: frozenlist>=1.1.1 in ./.local/lib/python3.12/site-packages (from aiohttp->datasets) (1.5.0)\n",
      "Requirement already satisfied: multidict<7.0,>=4.5 in ./.local/lib/python3.12/site-packages (from aiohttp->datasets) (6.4.3)\n",
      "Requirement already satisfied: propcache>=0.2.0 in ./.local/lib/python3.12/site-packages (from aiohttp->datasets) (0.3.1)\n",
      "Requirement already satisfied: yarl<2.0,>=1.17.0 in ./.local/lib/python3.12/site-packages (from aiohttp->datasets) (1.19.0)\n",
      "Requirement already satisfied: beautifulsoup4 in /packages/apps/jupyter/2025-03-24/lib/python3.12/site-packages (from gdown>=4.0.0->nlpaug) (4.13.3)\n",
      "Requirement already satisfied: six>=1.5 in /packages/apps/jupyter/2025-03-24/lib/python3.12/site-packages (from python-dateutil>=2.8.2->pandas) (1.17.0)\n",
      "Requirement already satisfied: charset_normalizer<4,>=2 in /packages/apps/jupyter/2025-03-24/lib/python3.12/site-packages (from requests->transformers) (3.4.1)\n",
      "Requirement already satisfied: idna<4,>=2.5 in /packages/apps/jupyter/2025-03-24/lib/python3.12/site-packages (from requests->transformers) (3.10)\n",
      "Requirement already satisfied: urllib3<3,>=1.21.1 in /packages/apps/jupyter/2025-03-24/lib/python3.12/site-packages (from requests->transformers) (2.3.0)\n",
      "Requirement already satisfied: certifi>=2017.4.17 in /packages/apps/jupyter/2025-03-24/lib/python3.12/site-packages (from requests->transformers) (2025.1.31)\n",
      "Requirement already satisfied: MarkupSafe>=2.0 in /packages/apps/jupyter/2025-03-24/lib/python3.12/site-packages (from jinja2->torch) (3.0.2)\n",
      "Requirement already satisfied: soupsieve>1.2 in /packages/apps/jupyter/2025-03-24/lib/python3.12/site-packages (from beautifulsoup4->gdown>=4.0.0->nlpaug) (2.5)\n",
      "Requirement already satisfied: PySocks!=1.5.7,>=1.5.6 in /packages/apps/jupyter/2025-03-24/lib/python3.12/site-packages (from requests[socks]->gdown>=4.0.0->nlpaug) (1.7.1)\n"
     ]
    }
   ],
   "source": [
    "!pip install torch transformers huggingface_hub[hf_xet] datasets scikit-learn peft accelerate pandas numpy tqdm seaborn matplotlib nlpaug sentencepiece"
   ]
  },
  {
   "cell_type": "code",
   "execution_count": 31,
   "id": "326c55ff-2c29-4eee-8a9d-0e9df899349a",
   "metadata": {},
   "outputs": [],
   "source": [
    "import os\n",
    "import re\n",
    "import torch\n",
    "import pandas as pd\n",
    "import random as rd\n",
    "import seaborn as sns\n",
    "from datasets import Dataset\n",
    "import matplotlib.pyplot as plt\n",
    "from sklearn.utils import resample\n",
    "import nlpaug.augmenter.word as naw\n",
    "from transformers import TrainingArguments, Trainer\n",
    "from sklearn.model_selection import train_test_split\n",
    "from peft import get_peft_model, LoraConfig, TaskType\n",
    "from transformers import DebertaV2Tokenizer, DebertaV2ForSequenceClassification, Trainer, TrainingArguments\n",
    "from sklearn.metrics import precision_recall_curve, classification_report, confusion_matrix, ConfusionMatrixDisplay, roc_curve, roc_auc_score"
   ]
  },
  {
   "cell_type": "markdown",
   "id": "6c936a94-4787-44a4-8627-f0f94da70c10",
   "metadata": {},
   "source": [
    "---"
   ]
  },
  {
   "cell_type": "markdown",
   "id": "91aaa3b4-78dc-4e52-8bcb-433cf5e670a6",
   "metadata": {},
   "source": [
    "## Data Loading & Preprocessing"
   ]
  },
  {
   "cell_type": "markdown",
   "id": "8bee934a-7563-446a-a70a-46e20cc973ab",
   "metadata": {},
   "source": [
    "#### 1. Load log data"
   ]
  },
  {
   "cell_type": "code",
   "execution_count": 3,
   "id": "a6ac559c-ca7e-476e-978d-0dc3b61c072a",
   "metadata": {
    "scrolled": true
   },
   "outputs": [
    {
     "name": "stdout",
     "output_type": "stream",
     "text": [
      "Log entries: 104815\n"
     ]
    }
   ],
   "source": [
    "# Ignore warning\n",
    "pd.set_option('future.no_silent_downcasting', True)\n",
    "\n",
    "logs_df = pd.read_csv(\"./data/logs.csv\")\n",
    "labels_df = pd.read_csv(\"./data/labels.csv\")\n",
    "\n",
    "print(f\"Log entries: {len(logs_df)}\")"
   ]
  },
  {
   "cell_type": "code",
   "execution_count": 4,
   "id": "2f4f75a4-cecb-46fb-8dcd-2a1625f87100",
   "metadata": {
    "scrolled": true
   },
   "outputs": [
    {
     "data": {
      "text/html": [
       "<div>\n",
       "<style scoped>\n",
       "    .dataframe tbody tr th:only-of-type {\n",
       "        vertical-align: middle;\n",
       "    }\n",
       "\n",
       "    .dataframe tbody tr th {\n",
       "        vertical-align: top;\n",
       "    }\n",
       "\n",
       "    .dataframe thead th {\n",
       "        text-align: right;\n",
       "    }\n",
       "</style>\n",
       "<table border=\"1\" class=\"dataframe\">\n",
       "  <thead>\n",
       "    <tr style=\"text-align: right;\">\n",
       "      <th></th>\n",
       "      <th>LineId</th>\n",
       "      <th>Date</th>\n",
       "      <th>Time</th>\n",
       "      <th>Pid</th>\n",
       "      <th>Level</th>\n",
       "      <th>Component</th>\n",
       "      <th>Content</th>\n",
       "      <th>EventId</th>\n",
       "      <th>EventTemplate</th>\n",
       "    </tr>\n",
       "  </thead>\n",
       "  <tbody>\n",
       "    <tr>\n",
       "      <th>0</th>\n",
       "      <td>1</td>\n",
       "      <td>81109</td>\n",
       "      <td>203518</td>\n",
       "      <td>143</td>\n",
       "      <td>INFO</td>\n",
       "      <td>dfs.DataNode$DataXceiver</td>\n",
       "      <td>Receiving block blk_-1608999687919862906 src: ...</td>\n",
       "      <td>E5</td>\n",
       "      <td>Receiving block &lt;*&gt; src: /&lt;*&gt; dest: /&lt;*&gt;</td>\n",
       "    </tr>\n",
       "  </tbody>\n",
       "</table>\n",
       "</div>"
      ],
      "text/plain": [
       "   LineId   Date    Time  Pid Level                 Component  \\\n",
       "0       1  81109  203518  143  INFO  dfs.DataNode$DataXceiver   \n",
       "\n",
       "                                             Content EventId  \\\n",
       "0  Receiving block blk_-1608999687919862906 src: ...      E5   \n",
       "\n",
       "                              EventTemplate  \n",
       "0  Receiving block <*> src: /<*> dest: /<*>  "
      ]
     },
     "execution_count": 4,
     "metadata": {},
     "output_type": "execute_result"
    }
   ],
   "source": [
    "logs_df.head(1)"
   ]
  },
  {
   "cell_type": "code",
   "execution_count": 5,
   "id": "16d6ff5b-51b2-4ee4-8527-a61efe9d51f0",
   "metadata": {
    "scrolled": true
   },
   "outputs": [
    {
     "data": {
      "text/html": [
       "<div>\n",
       "<style scoped>\n",
       "    .dataframe tbody tr th:only-of-type {\n",
       "        vertical-align: middle;\n",
       "    }\n",
       "\n",
       "    .dataframe tbody tr th {\n",
       "        vertical-align: top;\n",
       "    }\n",
       "\n",
       "    .dataframe thead th {\n",
       "        text-align: right;\n",
       "    }\n",
       "</style>\n",
       "<table border=\"1\" class=\"dataframe\">\n",
       "  <thead>\n",
       "    <tr style=\"text-align: right;\">\n",
       "      <th></th>\n",
       "      <th>BlockId</th>\n",
       "      <th>Label</th>\n",
       "    </tr>\n",
       "  </thead>\n",
       "  <tbody>\n",
       "    <tr>\n",
       "      <th>0</th>\n",
       "      <td>blk_-1608999687919862906</td>\n",
       "      <td>Normal</td>\n",
       "    </tr>\n",
       "  </tbody>\n",
       "</table>\n",
       "</div>"
      ],
      "text/plain": [
       "                    BlockId   Label\n",
       "0  blk_-1608999687919862906  Normal"
      ]
     },
     "execution_count": 5,
     "metadata": {},
     "output_type": "execute_result"
    }
   ],
   "source": [
    "labels_df.head(1)"
   ]
  },
  {
   "cell_type": "markdown",
   "id": "24b1a92c-8026-4bfb-943e-756462ccb730",
   "metadata": {},
   "source": [
    "---"
   ]
  },
  {
   "cell_type": "markdown",
   "id": "449a6a9d-6f67-4fbe-a0ad-68a85d5099f2",
   "metadata": {},
   "source": [
    "#### 2. Merge logs & labels datasets"
   ]
  },
  {
   "cell_type": "code",
   "execution_count": 6,
   "id": "b64c4ea8-cf25-4d97-9e7c-898d49eeb3f8",
   "metadata": {
    "scrolled": true
   },
   "outputs": [],
   "source": [
    "# Extract blockId from content for merging\n",
    "logs_df[\"BlockId\"] = logs_df[\"Content\"].str.extract(r'(blk_-?\\d+)')\n",
    "# Merge dataset into one\n",
    "logs_df = pd.merge(logs_df, labels_df, on=\"BlockId\")\n",
    "# Map 'Normal' to '1' & 'Anomaly' to '0'\n",
    "logs_df[\"Label\"] = logs_df[\"Label\"].replace({'Normal': 0, 'Anomaly': 1})"
   ]
  },
  {
   "cell_type": "code",
   "execution_count": 7,
   "id": "44c6b990-25ce-4ca9-bda9-b9fdda3e7038",
   "metadata": {
    "scrolled": true
   },
   "outputs": [
    {
     "data": {
      "text/html": [
       "<div>\n",
       "<style scoped>\n",
       "    .dataframe tbody tr th:only-of-type {\n",
       "        vertical-align: middle;\n",
       "    }\n",
       "\n",
       "    .dataframe tbody tr th {\n",
       "        vertical-align: top;\n",
       "    }\n",
       "\n",
       "    .dataframe thead th {\n",
       "        text-align: right;\n",
       "    }\n",
       "</style>\n",
       "<table border=\"1\" class=\"dataframe\">\n",
       "  <thead>\n",
       "    <tr style=\"text-align: right;\">\n",
       "      <th></th>\n",
       "      <th>LineId</th>\n",
       "      <th>Date</th>\n",
       "      <th>Time</th>\n",
       "      <th>Pid</th>\n",
       "      <th>Level</th>\n",
       "      <th>Component</th>\n",
       "      <th>Content</th>\n",
       "      <th>EventId</th>\n",
       "      <th>EventTemplate</th>\n",
       "      <th>BlockId</th>\n",
       "      <th>Label</th>\n",
       "    </tr>\n",
       "  </thead>\n",
       "  <tbody>\n",
       "    <tr>\n",
       "      <th>0</th>\n",
       "      <td>1</td>\n",
       "      <td>81109</td>\n",
       "      <td>203518</td>\n",
       "      <td>143</td>\n",
       "      <td>INFO</td>\n",
       "      <td>dfs.DataNode$DataXceiver</td>\n",
       "      <td>Receiving block blk_-1608999687919862906 src: ...</td>\n",
       "      <td>E5</td>\n",
       "      <td>Receiving block &lt;*&gt; src: /&lt;*&gt; dest: /&lt;*&gt;</td>\n",
       "      <td>blk_-1608999687919862906</td>\n",
       "      <td>0</td>\n",
       "    </tr>\n",
       "  </tbody>\n",
       "</table>\n",
       "</div>"
      ],
      "text/plain": [
       "   LineId   Date    Time  Pid Level                 Component  \\\n",
       "0       1  81109  203518  143  INFO  dfs.DataNode$DataXceiver   \n",
       "\n",
       "                                             Content EventId  \\\n",
       "0  Receiving block blk_-1608999687919862906 src: ...      E5   \n",
       "\n",
       "                              EventTemplate                   BlockId Label  \n",
       "0  Receiving block <*> src: /<*> dest: /<*>  blk_-1608999687919862906     0  "
      ]
     },
     "execution_count": 7,
     "metadata": {},
     "output_type": "execute_result"
    }
   ],
   "source": [
    "logs_df.head(1)"
   ]
  },
  {
   "cell_type": "markdown",
   "id": "2402165f-8b39-4f78-9cc5-3009cc08e98a",
   "metadata": {},
   "source": [
    "#### 3. Normalisation"
   ]
  },
  {
   "cell_type": "code",
   "execution_count": 8,
   "id": "0b0ecb40-524a-4d83-9ef7-1017ebc3a555",
   "metadata": {},
   "outputs": [],
   "source": [
    "# Different possible dynamic fields in a log entry\n",
    "patterns = [\n",
    "    r'True',\n",
    "    r'true',\n",
    "    r'False',\n",
    "    r'false',\n",
    "    r'\\b(zero|one|two|three|four|five|six|seven|eight|nine|ten|eleven|twelve|thirteen|fourteen|fifteen|sixteen|seventeen|eighteen|nineteen|twenty|thirty|forty|fifty|sixty|seventy|eighty|ninety|hundred|thousand|million|billion)\\b',\n",
    "    r'\\b(Mon|Monday|Tue|Tuesday|Wed|Wednesday|Thu|Thursday|Fri|Friday|Sat|Saturday|Sun|Sunday)\\b',\n",
    "    r'\\b(Jan(?:uary)?|Feb(?:ruary)?|Mar(?:ch)?|Apr(?:il)?|May|Jun(?:e)?|Jul(?:y)?|Aug(?:ust)?|Sep(?:tember)?|Oct(?:ober)?|Nov(?:ember)?|Dec(?:ember)?)\\s+(\\d{1,2})\\s+\\b',\n",
    "    r'\\d{1,3}\\.\\d{1,3}\\.\\d{1,3}\\.\\d{1,3}(:\\d{1,5})?',\n",
    "    r'([0-9A-Fa-f]{2}:){11}[0-9A-Fa-f]{2}',\n",
    "    r'([0-9A-Fa-f]{2}:){5}[0-9A-Fa-f]{2}',\n",
    "    r'[a-zA-Z0-9]*[:\\.]*([/\\\\]+[^/\\\\\\s\\[\\]]+)+[/\\\\]*',\n",
    "    r'\\b[0-9a-fA-F]{8}\\b',\n",
    "    r'\\b[0-9a-fA-F]{10}\\b',\n",
    "    r'(\\w+[\\w\\.]*)@(\\w+[\\w\\.]*)\\-(\\w+[\\w\\.]*)',\n",
    "    r'(\\w+[\\w\\.]*)@(\\w+[\\w\\.]*)',\n",
    "    r'[a-zA-Z\\.\\:\\-\\_]*\\d[a-zA-Z0-9\\.\\:\\-\\_]*',\n",
    "]\n",
    "combined_pattern = '|'.join(patterns)\n",
    "\n",
    "# helper function to replace dynamic fields with <*>\n",
    "def replace_dynamic_fields(log):\n",
    "    log = re.sub(r'[\\.]{3,}', '.. ', log)\n",
    "    log = re.sub(combined_pattern, '<*>', log)\n",
    "    return log"
   ]
  },
  {
   "cell_type": "code",
   "execution_count": 9,
   "id": "32c51691-afb8-4c0d-95f9-826bfc055ede",
   "metadata": {},
   "outputs": [],
   "source": [
    "# Replace dynamic fileds\n",
    "logs_df['processed_content'] = logs_df['Content'].apply(replace_dynamic_fields)\n",
    "# Rename column name\n",
    "logs_df = logs_df.rename(columns={'Label': 'label'})\n",
    "# Only needed\n",
    "logs_df = logs_df[['processed_content', 'label']]"
   ]
  },
  {
   "cell_type": "code",
   "execution_count": 10,
   "id": "a77594a3-a96f-419f-8611-284717e698f3",
   "metadata": {},
   "outputs": [
    {
     "data": {
      "text/html": [
       "<div>\n",
       "<style scoped>\n",
       "    .dataframe tbody tr th:only-of-type {\n",
       "        vertical-align: middle;\n",
       "    }\n",
       "\n",
       "    .dataframe tbody tr th {\n",
       "        vertical-align: top;\n",
       "    }\n",
       "\n",
       "    .dataframe thead th {\n",
       "        text-align: right;\n",
       "    }\n",
       "</style>\n",
       "<table border=\"1\" class=\"dataframe\">\n",
       "  <thead>\n",
       "    <tr style=\"text-align: right;\">\n",
       "      <th></th>\n",
       "      <th>processed_content</th>\n",
       "      <th>label</th>\n",
       "    </tr>\n",
       "  </thead>\n",
       "  <tbody>\n",
       "    <tr>\n",
       "      <th>0</th>\n",
       "      <td>Receiving block &lt;*&gt; src: &lt;*&gt; dest: &lt;*&gt;</td>\n",
       "      <td>0</td>\n",
       "    </tr>\n",
       "    <tr>\n",
       "      <th>1</th>\n",
       "      <td>BLOCK* NameSystem.allocateBlock: &lt;*&gt; &lt;*&gt;</td>\n",
       "      <td>0</td>\n",
       "    </tr>\n",
       "    <tr>\n",
       "      <th>2</th>\n",
       "      <td>Receiving block &lt;*&gt; src: &lt;*&gt; dest: &lt;*&gt;</td>\n",
       "      <td>0</td>\n",
       "    </tr>\n",
       "    <tr>\n",
       "      <th>3</th>\n",
       "      <td>Receiving block &lt;*&gt; src: &lt;*&gt; dest: &lt;*&gt;</td>\n",
       "      <td>0</td>\n",
       "    </tr>\n",
       "    <tr>\n",
       "      <th>4</th>\n",
       "      <td>PacketResponder &lt;*&gt; for block &lt;*&gt; terminating</td>\n",
       "      <td>0</td>\n",
       "    </tr>\n",
       "  </tbody>\n",
       "</table>\n",
       "</div>"
      ],
      "text/plain": [
       "                               processed_content label\n",
       "0         Receiving block <*> src: <*> dest: <*>     0\n",
       "1       BLOCK* NameSystem.allocateBlock: <*> <*>     0\n",
       "2         Receiving block <*> src: <*> dest: <*>     0\n",
       "3         Receiving block <*> src: <*> dest: <*>     0\n",
       "4  PacketResponder <*> for block <*> terminating     0"
      ]
     },
     "execution_count": 10,
     "metadata": {},
     "output_type": "execute_result"
    }
   ],
   "source": [
    "logs_df.head()"
   ]
  },
  {
   "cell_type": "markdown",
   "id": "2442b0d1-dc70-4ba0-b303-a1ccbdb89b19",
   "metadata": {},
   "source": [
    "#### 4. Data Distribution (before 'balancing')"
   ]
  },
  {
   "cell_type": "code",
   "execution_count": 11,
   "id": "85b8918f-06de-48bb-8d65-fb0625b7f6d7",
   "metadata": {},
   "outputs": [
    {
     "name": "stdout",
     "output_type": "stream",
     "text": [
      "\n",
      "label\n",
      "0    101544\n",
      "1      3271\n",
      "Name: count, dtype: int64\n",
      "\n"
     ]
    },
    {
     "data": {
      "image/png": "[encoded data removed]",
      "text/plain": [
       "<Figure size 600x400 with 1 Axes>"
      ]
     },
     "metadata": {},
     "output_type": "display_data"
    },
    {
     "name": "stdout",
     "output_type": "stream",
     "text": [
      "\n",
      "Anomaly: 3.12%\n",
      "\n"
     ]
    }
   ],
   "source": [
    "# utility function to calculate the data distribution\n",
    "def plot_data_distribution(df):\n",
    "    # Count the labels\n",
    "    labels_count = df['label'].value_counts()\n",
    "    print(f\"\\n{labels_count}\\n\")\n",
    "    \n",
    "    # Plot\n",
    "    plt.figure(figsize=(6, 4))\n",
    "    sns.barplot(x=labels_count.index, y=labels_count.values)\n",
    "    plt.xticks([0, 1], ['Normal', 'Anomaly'])\n",
    "    plt.ylabel(\"Log entries\")\n",
    "    plt.xlabel(\"Log type\")\n",
    "    plt.show()\n",
    "    \n",
    "    anomaly = labels_count[1] / sum(labels_count) * 100\n",
    "    print(f\"\\nAnomaly: {anomaly:.2f}%\\n\")\n",
    "\n",
    "plot_data_distribution(logs_df)"
   ]
  },
  {
   "cell_type": "markdown",
   "id": "6ff61b4c-e792-4e36-adb3-a0e88c2ca668",
   "metadata": {},
   "source": [
    "Here, the data is highly imbalanced"
   ]
  },
  {
   "cell_type": "markdown",
   "id": "3576bd04-8811-4bc0-b185-499bbae0745b",
   "metadata": {},
   "source": [
    "#### 5. Balance Dataset"
   ]
  },
  {
   "cell_type": "code",
   "execution_count": 12,
   "id": "d1cb50bb-4164-4595-8b7d-08d840ec0f22",
   "metadata": {},
   "outputs": [],
   "source": [
    "# split the datasets\n",
    "normal_df = logs_df[logs_df['label'] == 0]\n",
    "anomaly_df = logs_df[logs_df['label'] == 1]"
   ]
  },
  {
   "cell_type": "code",
   "execution_count": 13,
   "id": "c28d760e-1e11-4417-ad8d-29f4905d2d19",
   "metadata": {},
   "outputs": [],
   "source": [
    "# utilty function to augment anomalies by swapping or deleting words \n",
    "def augment_anomalies(log, max_changes=1):\n",
    "    aug = rd.choice([\n",
    "        naw.RandomWordAug(action=\"swap\"), \n",
    "        naw.RandomWordAug(action=\"delete\")\n",
    "    ])\n",
    "    augmented = aug.augment(log, n=max_changes)\n",
    "    return augmented[0] if isinstance(augmented, list) else augmented\n",
    "\n",
    "# augment\n",
    "new_anomaly_df = anomaly_df.copy()\n",
    "new_anomaly_df['processed_content'] = new_anomaly_df['processed_content'].apply(lambda txt: augment_anomalies(txt, 2))\n",
    "\n",
    "# combine both original & new anomalies\n",
    "combined_anomaly_df = pd.concat([anomaly_df, new_anomaly_df])\n",
    "\n",
    "# resample the new anomalies to match normal log entries\n",
    "balanced_df = resample(combined_anomaly_df, replace=True, n_samples=len(normal_df), random_state=42)\n",
    "\n",
    "# balanced dataset\n",
    "new_log_df = pd.concat([normal_df, balanced_df])\n",
    "new_log_df = new_log_df.sample(frac=1, random_state=42).reset_index(drop=True)"
   ]
  },
  {
   "cell_type": "code",
   "execution_count": 14,
   "id": "57030216-26e9-43d5-a2b6-555c87e3c63c",
   "metadata": {},
   "outputs": [
    {
     "data": {
      "text/html": [
       "<div>\n",
       "<style scoped>\n",
       "    .dataframe tbody tr th:only-of-type {\n",
       "        vertical-align: middle;\n",
       "    }\n",
       "\n",
       "    .dataframe tbody tr th {\n",
       "        vertical-align: top;\n",
       "    }\n",
       "\n",
       "    .dataframe thead th {\n",
       "        text-align: right;\n",
       "    }\n",
       "</style>\n",
       "<table border=\"1\" class=\"dataframe\">\n",
       "  <thead>\n",
       "    <tr style=\"text-align: right;\">\n",
       "      <th></th>\n",
       "      <th>processed_content</th>\n",
       "      <th>label</th>\n",
       "    </tr>\n",
       "  </thead>\n",
       "  <tbody>\n",
       "    <tr>\n",
       "      <th>0</th>\n",
       "      <td>Receiving block &lt;*&gt; src: &lt;*&gt; dest: &lt;*&gt;</td>\n",
       "      <td>0</td>\n",
       "    </tr>\n",
       "    <tr>\n",
       "      <th>1</th>\n",
       "      <td>Receiving block &lt;*&gt; src: &lt;*&gt; dest: &lt;*&gt;</td>\n",
       "      <td>0</td>\n",
       "    </tr>\n",
       "    <tr>\n",
       "      <th>2</th>\n",
       "      <td>Block &lt;*&gt; &lt;*&gt; &lt;* &gt;</td>\n",
       "      <td>1</td>\n",
       "    </tr>\n",
       "    <tr>\n",
       "      <th>3</th>\n",
       "      <td>BLOCK* NameSystem.addStoredBlock: blockMap upd...</td>\n",
       "      <td>1</td>\n",
       "    </tr>\n",
       "    <tr>\n",
       "      <th>4</th>\n",
       "      <td>Received block &lt;*&gt; of size &lt;*&gt; from &lt;*&gt;</td>\n",
       "      <td>0</td>\n",
       "    </tr>\n",
       "  </tbody>\n",
       "</table>\n",
       "</div>"
      ],
      "text/plain": [
       "                                   processed_content label\n",
       "0             Receiving block <*> src: <*> dest: <*>     0\n",
       "1             Receiving block <*> src: <*> dest: <*>     0\n",
       "2                                 Block <*> <*> <* >     1\n",
       "3  BLOCK* NameSystem.addStoredBlock: blockMap upd...     1\n",
       "4            Received block <*> of size <*> from <*>     0"
      ]
     },
     "execution_count": 14,
     "metadata": {},
     "output_type": "execute_result"
    }
   ],
   "source": [
    "new_log_df.head(5)"
   ]
  },
  {
   "cell_type": "markdown",
   "id": "ffee2103-f548-4d2a-964c-8ea3663d630f",
   "metadata": {},
   "source": [
    "#### 6. Data Distribution (after 'balancing')"
   ]
  },
  {
   "cell_type": "code",
   "execution_count": 15,
   "id": "d70b5ed4-cfa7-480b-b8a0-7a35bbd368c9",
   "metadata": {},
   "outputs": [
    {
     "name": "stdout",
     "output_type": "stream",
     "text": [
      "\n",
      "label\n",
      "0    101544\n",
      "1    101544\n",
      "Name: count, dtype: int64\n",
      "\n"
     ]
    },
    {
     "data": {
      "image/png": "[encoded data removed]",
      "text/plain": [
       "<Figure size 600x400 with 1 Axes>"
      ]
     },
     "metadata": {},
     "output_type": "display_data"
    },
    {
     "name": "stdout",
     "output_type": "stream",
     "text": [
      "\n",
      "Anomaly: 50.00%\n",
      "\n"
     ]
    }
   ],
   "source": [
    "plot_data_distribution(new_log_df)"
   ]
  },
  {
   "cell_type": "markdown",
   "id": "9890dfb0-d0f7-453d-9e2e-abcef21fb416",
   "metadata": {},
   "source": [
    "#### 7. Split dataset: Training & Test"
   ]
  },
  {
   "cell_type": "code",
   "execution_count": 16,
   "id": "d8db59c1-6e1b-41a3-8373-d6d9ab25e07c",
   "metadata": {
    "scrolled": true
   },
   "outputs": [
    {
     "name": "stdout",
     "output_type": "stream",
     "text": [
      "Training Split: 162470 | Test Split: 40618\n"
     ]
    }
   ],
   "source": [
    "train_df, test_df = train_test_split(\n",
    "    new_log_df,\n",
    "    test_size=0.2,\n",
    "    random_state=42,\n",
    "    stratify=new_log_df[\"label\"]\n",
    ")\n",
    "\n",
    "print(f\"Training Split: {len(train_df)} | Test Split: {len(test_df)}\")"
   ]
  },
  {
   "cell_type": "markdown",
   "id": "3e6192ea-f24a-4396-ac47-8ad80cd4d3a9",
   "metadata": {},
   "source": [
    "---"
   ]
  },
  {
   "cell_type": "markdown",
   "id": "4742166f-81c5-4b67-8f38-ed2435e1133f",
   "metadata": {},
   "source": [
    "## Model Training"
   ]
  },
  {
   "cell_type": "markdown",
   "id": "5a89744c-721e-42fa-ac3e-0c2beb01af44",
   "metadata": {},
   "source": [
    "#### 1. Initialise the model\n",
    "We are using 'deberta-v3-large' model"
   ]
  },
  {
   "cell_type": "code",
   "execution_count": 19,
   "id": "52d078ac-35c8-4cd6-b0c0-29dd2ae21a49",
   "metadata": {},
   "outputs": [],
   "source": [
    "# Since we are usign heavy model, lora is added for computational efficiency\n",
    "lora_config = LoraConfig(\n",
    "    r=16, \n",
    "    lora_alpha=32,\n",
    "    target_modules=[\"query_proj\", \"value_proj\"],\n",
    "    lora_dropout=0.1,\n",
    "    bias=\"none\",\n",
    "    task_type=TaskType.SEQ_CLS\n",
    ")"
   ]
  },
  {
   "cell_type": "code",
   "execution_count": 20,
   "id": "64c729d6-c80d-42f4-bbd6-bb4b6d49a780",
   "metadata": {},
   "outputs": [
    {
     "name": "stderr",
     "output_type": "stream",
     "text": [
      "Some weights of DebertaV2ForSequenceClassification were not initialized from the model checkpoint at microsoft/deberta-v3-large and are newly initialized: ['classifier.bias', 'classifier.weight', 'pooler.dense.bias', 'pooler.dense.weight']\n",
      "You should probably TRAIN this model on a down-stream task to be able to use it for predictions and inference.\n"
     ]
    }
   ],
   "source": [
    "# Initiailise model\n",
    "tokenizer = DebertaV2Tokenizer.from_pretrained(\"microsoft/deberta-v3-large\")\n",
    "model = DebertaV2ForSequenceClassification.from_pretrained(\n",
    "    \"microsoft/deberta-v3-large\",\n",
    "    num_labels=2,\n",
    "    problem_type=\"single_label_classification\"\n",
    ")\n",
    "# wrap with lora\n",
    "model = get_peft_model(model, lora_config).to('cuda')"
   ]
  },
  {
   "cell_type": "markdown",
   "id": "1ad70bfe-168f-42a3-9d27-a18cb0cbab50",
   "metadata": {},
   "source": [
    "#### 2. Prepare custom dataset\n",
    "For creating tokens of log entries for taining transformer models"
   ]
  },
  {
   "cell_type": "code",
   "execution_count": 21,
   "id": "24ec7990-c946-4429-8dbe-7bb799db2aca",
   "metadata": {},
   "outputs": [],
   "source": [
    "class LogDataset(torch.utils.data.Dataset):\n",
    "    def __init__(self, texts, labels, tokenizer, max_length=256):\n",
    "        self.encodings = tokenizer(\n",
    "            texts.tolist(),\n",
    "            truncation=True,\n",
    "            max_length=max_length,\n",
    "            padding=\"max_length\"\n",
    "        )\n",
    "        self.labels = labels.tolist()\n",
    "\n",
    "    def __getitem__(self, idx):\n",
    "        item = {key: self.encodings[key][idx] for key in self.encodings}\n",
    "        item['labels'] = torch.tensor(self.labels[idx])\n",
    "        return item\n",
    "\n",
    "    def __len__(self):\n",
    "        return len(self.labels)"
   ]
  },
  {
   "cell_type": "markdown",
   "id": "11e4cebd-6d32-4f97-96ca-edce5249a20b",
   "metadata": {},
   "source": [
    "#### 3. Split dataset: Training & Test"
   ]
  },
  {
   "cell_type": "code",
   "execution_count": 22,
   "id": "cbf38b46-55d2-47c7-af1d-464e7d14b669",
   "metadata": {},
   "outputs": [],
   "source": [
    "train_df, test_df = train_test_split(new_log_df, test_size=0.2)\n",
    "training_dataset = LogDataset(train_df['processed_content'], train_df['label'], tokenizer)\n",
    "testing_dataset = LogDataset(test_df['processed_content'], test_df['label'], tokenizer)"
   ]
  },
  {
   "cell_type": "markdown",
   "id": "83df5b67-de20-49fd-8e0a-79477e13f1a2",
   "metadata": {},
   "source": [
    "#### 4. Train the model"
   ]
  },
  {
   "cell_type": "code",
   "execution_count": 23,
   "id": "d1e65bae-3629-4cae-8d02-942a3b16af95",
   "metadata": {},
   "outputs": [],
   "source": [
    "# utility function to calculate the model metrics\n",
    "def calc_model_metrics(p):\n",
    "    from sklearn.metrics import accuracy_score, precision_recall_fscore_support\n",
    "    preds = p.predictions.argmax(-1)\n",
    "    labels = p.label_ids\n",
    "    accuracy = accuracy_score(labels, preds)\n",
    "    precision, recall, f1, _ = precision_recall_fscore_support(labels, preds, average='binary')\n",
    "    return {\n",
    "            \"accuracy\": accuracy, \n",
    "            \"precision\": precision,\n",
    "            \"recall\": recall,\n",
    "            \"f1\": f1\n",
    "           }"
   ]
  },
  {
   "cell_type": "code",
   "execution_count": 24,
   "id": "aec08edf-dce1-498e-9900-8dbc0da069a3",
   "metadata": {},
   "outputs": [
    {
     "name": "stderr",
     "output_type": "stream",
     "text": [
      "Detected kernel version 4.18.0, which is below the recommended minimum of 5.5.0; this can cause the process to hang. It is recommended to upgrade the kernel to the minimum version or higher.\n",
      "No label_names provided for model class `PeftModelForSequenceClassification`. Since `PeftModel` hides base models input arguments, if label_names is not given, label_names can't be set automatically within `Trainer`. Note that empty label_names list will be used instead.\n"
     ]
    },
    {
     "data": {
      "text/html": [
       "\n",
       "    <div>\n",
       "      \n",
       "      <progress value='60927' max='60927' style='width:300px; height:20px; vertical-align: middle;'></progress>\n",
       "      [60927/60927 4:48:40, Epoch 3/3]\n",
       "    </div>\n",
       "    <table border=\"1\" class=\"dataframe\">\n",
       "  <thead>\n",
       " <tr style=\"text-align: left;\">\n",
       "      <th>Epoch</th>\n",
       "      <th>Training Loss</th>\n",
       "      <th>Validation Loss</th>\n",
       "      <th>Accuracy</th>\n",
       "      <th>Precision</th>\n",
       "      <th>Recall</th>\n",
       "      <th>F1</th>\n",
       "    </tr>\n",
       "  </thead>\n",
       "  <tbody>\n",
       "    <tr>\n",
       "      <td>1</td>\n",
       "      <td>0.417400</td>\n",
       "      <td>0.446810</td>\n",
       "      <td>0.780935</td>\n",
       "      <td>0.996251</td>\n",
       "      <td>0.563384</td>\n",
       "      <td>0.719748</td>\n",
       "    </tr>\n",
       "    <tr>\n",
       "      <td>2</td>\n",
       "      <td>0.468000</td>\n",
       "      <td>0.445155</td>\n",
       "      <td>0.780935</td>\n",
       "      <td>0.996251</td>\n",
       "      <td>0.563384</td>\n",
       "      <td>0.719748</td>\n",
       "    </tr>\n",
       "    <tr>\n",
       "      <td>3</td>\n",
       "      <td>0.447300</td>\n",
       "      <td>0.445548</td>\n",
       "      <td>0.780935</td>\n",
       "      <td>0.996251</td>\n",
       "      <td>0.563384</td>\n",
       "      <td>0.719748</td>\n",
       "    </tr>\n",
       "  </tbody>\n",
       "</table><p>"
      ],
      "text/plain": [
       "<IPython.core.display.HTML object>"
      ]
     },
     "metadata": {},
     "output_type": "display_data"
    },
    {
     "data": {
      "text/plain": [
       "TrainOutput(global_step=60927, training_loss=0.44988607254815965, metrics={'train_runtime': 17320.9984, 'train_samples_per_second': 28.14, 'train_steps_per_second': 3.518, 'total_flos': 2.2829694404622336e+17, 'train_loss': 0.44988607254815965, 'epoch': 3.0})"
      ]
     },
     "execution_count": 24,
     "metadata": {},
     "output_type": "execute_result"
    }
   ],
   "source": [
    "# define training arguments\n",
    "training_args = TrainingArguments(\n",
    "    output_dir=\"./output\",\n",
    "    eval_strategy=\"epoch\",\n",
    "    save_strategy=\"epoch\",\n",
    "    learning_rate=2e-5,\n",
    "    per_device_train_batch_size=8,\n",
    "    per_device_eval_batch_size=8,\n",
    "    num_train_epochs=3,\n",
    "    weight_decay=0.01,\n",
    "    logging_dir=\"./logs\",\n",
    "    logging_steps=50,\n",
    "    load_best_model_at_end=True,\n",
    "    metric_for_best_model=\"accuracy\",\n",
    "    save_total_limit=2,\n",
    "    fp16=True,\n",
    "    report_to=\"none\"\n",
    ")\n",
    "\n",
    "# train model\n",
    "trainer = Trainer(\n",
    "    model=model,\n",
    "    args=training_args,\n",
    "    train_dataset=training_dataset,\n",
    "    eval_dataset=testing_dataset,\n",
    "    compute_metrics=calc_model_metrics\n",
    ")\n",
    "trainer.train()"
   ]
  },
  {
   "cell_type": "markdown",
   "id": "c841d334-d7c0-4040-82c7-b9ef29ca86d9",
   "metadata": {},
   "source": [
    "#### 5. Save the model"
   ]
  },
  {
   "cell_type": "code",
   "execution_count": 25,
   "id": "51c69c25-ff48-4e22-a065-d5033321cac3",
   "metadata": {},
   "outputs": [
    {
     "data": {
      "text/plain": [
       "('./log_anomaly_model/tokenizer_config.json',\n",
       " './log_anomaly_model/special_tokens_map.json',\n",
       " './log_anomaly_model/spm.model',\n",
       " './log_anomaly_model/added_tokens.json')"
      ]
     },
     "execution_count": 25,
     "metadata": {},
     "output_type": "execute_result"
    }
   ],
   "source": [
    "trainer.save_model(\"./log_anomaly_model\")\n",
    "tokenizer.save_pretrained(\"./log_anomaly_model\")"
   ]
  },
  {
   "cell_type": "markdown",
   "id": "d8549f13-45bc-4ed5-9dc2-9f094cf069ff",
   "metadata": {},
   "source": [
    "---"
   ]
  },
  {
   "cell_type": "markdown",
   "id": "10461a03-2c80-43f0-b0d6-040f64ab9377",
   "metadata": {},
   "source": [
    "## Model Evaluation"
   ]
  },
  {
   "cell_type": "markdown",
   "id": "ae48a482-cc1a-434b-b666-647881d8708b",
   "metadata": {},
   "source": [
    "#### 1. Evalute againt test dataset"
   ]
  },
  {
   "cell_type": "code",
   "execution_count": 26,
   "id": "bbe85a1e-c489-4413-a506-073ecf9f5aff",
   "metadata": {},
   "outputs": [
    {
     "data": {
      "text/html": [],
      "text/plain": [
       "<IPython.core.display.HTML object>"
      ]
     },
     "metadata": {},
     "output_type": "display_data"
    },
    {
     "name": "stdout",
     "output_type": "stream",
     "text": [
      "{'eval_loss': 0.44680967926979065, 'eval_accuracy': 0.7809345610320547, 'eval_precision': 0.9962507629261488, 'eval_recall': 0.5633844484985947, 'eval_f1': 0.719748031496063, 'eval_runtime': 533.6199, 'eval_samples_per_second': 76.118, 'eval_steps_per_second': 9.516, 'epoch': 3.0}\n"
     ]
    }
   ],
   "source": [
    "test_result = trainer.evaluate(testing_dataset)\n",
    "print(test_result)"
   ]
  },
  {
   "cell_type": "markdown",
   "id": "cfdf0eaa-f7d8-4fd5-b537-58ffb91fbdf6",
   "metadata": {},
   "source": [
    "#### 2. Classification report"
   ]
  },
  {
   "cell_type": "code",
   "execution_count": 33,
   "id": "e93bd029-cef0-4664-a5b2-04b7e20e84c8",
   "metadata": {},
   "outputs": [
    {
     "data": {
      "text/html": [],
      "text/plain": [
       "<IPython.core.display.HTML object>"
      ]
     },
     "metadata": {},
     "output_type": "display_data"
    },
    {
     "name": "stdout",
     "output_type": "stream",
     "text": [
      "              precision    recall  f1-score   support\n",
      "\n",
      "      Normal       0.70      1.00      0.82     20337\n",
      "     Anomaly       1.00      0.56      0.72     20281\n",
      "\n",
      "    accuracy                           0.78     40618\n",
      "   macro avg       0.85      0.78      0.77     40618\n",
      "weighted avg       0.85      0.78      0.77     40618\n",
      "\n"
     ]
    }
   ],
   "source": [
    "# calculate predictions\n",
    "test_prediction = trainer.predict(testing_dataset)\n",
    "\n",
    "prediction_label = test_prediction.predictions.argmax(-1)\n",
    "true_labels = testing_dataset.labels\n",
    "\n",
    "# render classification metrics\n",
    "print(classification_report(true_labels, prediction_label, target_names=[\"Normal\", \"Anomaly\"]))"
   ]
  },
  {
   "cell_type": "markdown",
   "id": "8c3f8e79-bff7-4c4c-818a-6624f87adbd8",
   "metadata": {},
   "source": [
    "#### 3. Confusion Matrix"
   ]
  },
  {
   "cell_type": "code",
   "execution_count": 35,
   "id": "f10e3a77-477e-41ac-9740-6c5e24f1cb43",
   "metadata": {},
   "outputs": [
    {
     "data": {
      "image/png": "[encoded data removed]",
      "text/plain": [
       "<Figure size 640x480 with 2 Axes>"
      ]
     },
     "metadata": {},
     "output_type": "display_data"
    }
   ],
   "source": [
    "cm = confusion_matrix(true_labels, prediction_label)\n",
    "disp = ConfusionMatrixDisplay(confusion_matrix=cm, display_labels=[\"Normal\", \"Anomaly\"])\n",
    "disp.plot(cmap=\"Blues\")\n",
    "plt.show()"
   ]
  },
  {
   "cell_type": "markdown",
   "id": "98099f08-53da-41f6-82e6-3c03afae618c",
   "metadata": {},
   "source": [
    "#### 4. ROC & AOC Curve"
   ]
  },
  {
   "cell_type": "code",
   "execution_count": 38,
   "id": "c5a697f4-b22d-419b-95be-adfb5d59c3dc",
   "metadata": {},
   "outputs": [
    {
     "data": {
      "image/png": "[encoded data removed]",
      "text/plain": [
       "<Figure size 600x400 with 1 Axes>"
      ]
     },
     "metadata": {},
     "output_type": "display_data"
    }
   ],
   "source": [
    "# probabilities for anomalous logs\n",
    "probs = test_prediction.predictions[:, 1]\n",
    "\n",
    "# ROC Curve\n",
    "fpr, tpr, thresholds = roc_curve(true_labels, probs)\n",
    "roc_auc = roc_auc_score(true_labels, probs)\n",
    "\n",
    "plt.figure(figsize=(6, 4))\n",
    "plt.plot(fpr, tpr, color=\"darkorange\", lw=2, label=f\"ROC curve (AUC = {roc_auc:.2f})\")\n",
    "plt.plot([0, 1], [0, 1], color=\"navy\", lw=2, linestyle=\"--\")\n",
    "plt.xlabel(\"False Positive\")\n",
    "plt.ylabel(\"True Positive\")\n",
    "plt.legend(loc=\"lower right\")\n",
    "plt.grid(True)\n",
    "plt.show()"
   ]
  },
  {
   "cell_type": "markdown",
   "id": "4e883cc7-a0b4-469b-80e6-711c14605adf",
   "metadata": {},
   "source": [
    "---"
   ]
  },
  {
   "cell_type": "code",
   "execution_count": null,
   "id": "12f58f08-6fd6-453a-9072-eb9f8e5bcc91",
   "metadata": {},
   "outputs": [],
   "source": []
  }
 ],
 "metadata": {
  "kernelspec": {
   "display_name": "Python 3 (ipykernel)",
   "language": "python",
   "name": "python3"
  },
  "language_info": {
   "codemirror_mode": {
    "name": "ipython",
    "version": 3
   },
   "file_extension": ".py",
   "mimetype": "text/x-python",
   "name": "python",
   "nbconvert_exporter": "python",
   "pygments_lexer": "ipython3",
   "version": "3.12.9"
  }
 },
 "nbformat": 4,
 "nbformat_minor": 5
}
